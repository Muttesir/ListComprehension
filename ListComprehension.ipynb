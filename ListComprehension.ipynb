{
 "cells": [
  {
   "cell_type": "code",
   "execution_count": 4,
   "metadata": {},
   "outputs": [
    {
     "name": "stdout",
     "output_type": "stream",
     "text": [
      "[1, 4, 9, 16, 25]\n",
      "[1, 4, 9, 16, 25]\n"
     ]
    }
   ],
   "source": [
    "squared = []\n",
    "for num in range(1, 6):\n",
    "    squared.append(num ** 2)\n",
    "\n",
    "print(squared)\n",
    "#We could simplify to:\n",
    "squared = [num ** 2 for num in range(1, 6)]\n",
    "print(squared)\n",
    "#We can also add conditions to the end of our expression. The pseudocode would be:\n",
    "#my_list = [calculation for variable in iterable if condition]\n"
   ]
  },
  {
   "cell_type": "code",
   "execution_count": 6,
   "metadata": {},
   "outputs": [
    {
     "name": "stdout",
     "output_type": "stream",
     "text": [
      "[1, 4, 9, 16, 25, 36, 49, 64]\n"
     ]
    }
   ],
   "source": [
    "mul=[]\n",
    "for num in range(1,9):\n",
    "    mul.append(num*num)\n",
    "print(mul)"
   ]
  },
  {
   "cell_type": "code",
   "execution_count": 10,
   "metadata": {},
   "outputs": [
    {
     "name": "stdout",
     "output_type": "stream",
     "text": [
      "[36, 49, 64]\n"
     ]
    }
   ],
   "source": [
    "mul=[num*num for num in range(1,9) if num>5]\n",
    "print(mul)\n"
   ]
  },
  {
   "cell_type": "code",
   "execution_count": 154,
   "metadata": {},
   "outputs": [
    {
     "name": "stdout",
     "output_type": "stream",
     "text": [
      "[4, 5, 6, 7, 8, 9, 10, 11]\n"
     ]
    }
   ],
   "source": [
    "l=[num+3 for num in range(1,9)] ##return a new list but add 3 to each item\n",
    "print(l)"
   ]
  },
  {
   "cell_type": "code",
   "execution_count": 168,
   "metadata": {},
   "outputs": [
    {
     "name": "stdout",
     "output_type": "stream",
     "text": [
      "[36, 58, 31, 80, 25]\n"
     ]
    }
   ],
   "source": [
    "# return a new list of all positive numbers, but as integers\n",
    "\n",
    "nums = [33.6, -210.1, 55.3, 28.4, -10.2, 77.9, 22.7]\n",
    "new_l=[int(num+3) for num in nums if num>0 ]\n",
    "print(new_l)\n",
    "\n"
   ]
  },
  {
   "cell_type": "code",
   "execution_count": 29,
   "metadata": {},
   "outputs": [
    {
     "name": "stdout",
     "output_type": "stream",
     "text": [
      "[7, 14, 21, 28, 35, 42, 49, 56, 63, 70, 77, 84, 91, 98]\n"
     ]
    }
   ],
   "source": [
    "#A list of all numbers divisible by 7 in the range 1 – 100.\n",
    "\n",
    "new_list=[num+0 for num in range(1,100) if num%7==0]\n",
    "print(new_list)\n",
    "\n"
   ]
  },
  {
   "cell_type": "code",
   "execution_count": 153,
   "metadata": {},
   "outputs": [
    {
     "name": "stdout",
     "output_type": "stream",
     "text": [
      "['AN APPLE A DAY KEEPS THE DOCTOR AWAY']\n",
      "['A', 'A', 'D', 'K', 'T', 'D', 'A']\n"
     ]
    }
   ],
   "source": [
    "# return all letter as Capital\n",
    "\n",
    "st=['An Apple a Day Keeps The Doctor Away']\n",
    "new_st=[d.upper() for d in st ]\n",
    "print(new_st)\n",
    "\n",
    "## For the string “An Apple a Day Keeps The Doctor Away”, return a list of all capital letters. \n",
    "st='An Apple a Day Keeps The Doctor Away' \n",
    "new_st1=[d for d in st if d.isupper() ]\n",
    "print(new_st1)"
   ]
  },
  {
   "cell_type": "code",
   "execution_count": 70,
   "metadata": {},
   "outputs": [
    {
     "name": "stdin",
     "output_type": "stream",
     "text": [
      "Enter Word muttesir\n"
     ]
    },
    {
     "name": "stdout",
     "output_type": "stream",
     "text": [
      "risettum\n"
     ]
    }
   ],
   "source": [
    "#reverse word\n",
    "\n",
    "word=input('Enter Word')\n",
    "new_word=[new for new in word[::-1]]\n",
    "\n",
    "new_word = ''.join(list(reversed(word)))\n",
    "print(new_word)"
   ]
  },
  {
   "cell_type": "code",
   "execution_count": 143,
   "metadata": {},
   "outputs": [
    {
     "name": "stdout",
     "output_type": "stream",
     "text": [
      "['civic', 'level', 'madam', 'racecar', 'rotor']\n"
     ]
    }
   ],
   "source": [
    "##create a new list which contains all the palindromes\n",
    "\n",
    "word=[\"civic\", \"motor\", \"level\", \"madam\", \"hello\", \"racecar\", \"python\", \"rotor\"]\n",
    "new_word=[new for new in word if new==new[::-1]]\n",
    "print(new_word)"
   ]
  },
  {
   "cell_type": "code",
   "execution_count": 159,
   "metadata": {},
   "outputs": [
    {
     "name": "stdout",
     "output_type": "stream",
     "text": [
      "number of spaces  7\n",
      "number of spaces 7 #listComphrension\n",
      "number of spaces 7\n"
     ]
    }
   ],
   "source": [
    "## count the number of spaces in a string\n",
    "\n",
    "def check_space(string):\n",
    "     \n",
    "    count = 0       \n",
    "    for i in string:                 \n",
    "        if i == \" \":\n",
    "            count += 1\n",
    "         \n",
    "    return count\n",
    "string='Given a string, count the number of spaces'\n",
    "print(\"number of spaces \",check_space(string))\n",
    "\n",
    "new=len([x for x in string if x==' '])\n",
    "print(\"number of spaces\",new, '#listComphrension')\n",
    "\n",
    "#can colculate with count\n",
    "print('number of spaces',string.count(' '))\n"
   ]
  },
  {
   "cell_type": "code",
   "execution_count": 160,
   "metadata": {},
   "outputs": [
    {
     "name": "stdout",
     "output_type": "stream",
     "text": [
      "Gvn  strng, cnt th nmbr f spcs\n"
     ]
    }
   ],
   "source": [
    "# Given a string, return a new string but remove all the vowels.\n",
    "\n",
    "string='Given a string, count the number of spaces'\n",
    "vowels = ('a', 'e', 'i', 'o', 'u')\n",
    "new=[x for x in string if x not in vowels]\n",
    "print(''.join(new))"
   ]
  },
  {
   "cell_type": "code",
   "execution_count": null,
   "metadata": {},
   "outputs": [],
   "source": []
  }
 ],
 "metadata": {
  "kernelspec": {
   "display_name": "Python 3",
   "language": "python",
   "name": "python3"
  },
  "language_info": {
   "codemirror_mode": {
    "name": "ipython",
    "version": 3
   },
   "file_extension": ".py",
   "mimetype": "text/x-python",
   "name": "python",
   "nbconvert_exporter": "python",
   "pygments_lexer": "ipython3",
   "version": "3.7.6"
  }
 },
 "nbformat": 4,
 "nbformat_minor": 4
}
