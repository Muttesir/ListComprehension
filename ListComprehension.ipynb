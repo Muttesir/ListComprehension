{
 "cells": [
  {
   "cell_type": "code",
   "execution_count": 1,
   "metadata": {},
   "outputs": [
    {
     "name": "stdout",
     "output_type": "stream",
     "text": [
      "['password', 'p@ssword', 'PASSWORD', 'P@SSWORD', 'password0', 'password1', 'password2', 'password3', 'password4', 'password5', 'password6', 'password7', 'password8', 'password9', 'p@ssword0', 'p@ssword1', 'p@ssword2', 'p@ssword3', 'p@ssword4', 'p@ssword5', 'p@ssword6', 'p@ssword7', 'p@ssword8', 'p@ssword9', 'PASSWORD0', 'PASSWORD1', 'PASSWORD2', 'PASSWORD3', 'PASSWORD4', 'PASSWORD5', 'PASSWORD6', 'PASSWORD7', 'PASSWORD8', 'PASSWORD9', 'P@SSWORD0', 'P@SSWORD1', 'P@SSWORD2', 'P@SSWORD3', 'P@SSWORD4', 'P@SSWORD5', 'P@SSWORD6', 'P@SSWORD7', 'P@SSWORD8', 'P@SSWORD9']\n",
      "44\n"
     ]
    }
   ],
   "source": [
    "def capitalise(base): \n",
    "    return [base.capitalize()]\n",
    "\n",
    "def up(base):\n",
    "    return [base.upper()]\n",
    "\n",
    "def replace_a(base):\n",
    "    return [base.replace('a', '@')]\n",
    "\n",
    "def append_num(base, start=0, end=10):\n",
    "    return [base + str(num) for num in range(start,end)]\n",
    "\n",
    "base = \"password\"\n",
    "\n",
    "#test_rules = [append_num, up, replace_a]\n",
    "test_rules = [replace_a, up, append_num]\n",
    "permutations = [base]\n",
    "\n",
    "for rule in test_rules:\n",
    "    new_permutations = []\n",
    "    for perm in permutations:\n",
    "        # appending all the items from the iterable. Equivalent to a[len(a):] = iterable.\n",
    "        new_permutations.extend(rule(perm))\n",
    "    permutations.extend(new_permutations)\n",
    "\n",
    "print(permutations)\n",
    "print(len(permutations))\n"
   ]
  },
  {
   "cell_type": "code",
   "execution_count": 4,
   "metadata": {},
   "outputs": [
    {
     "name": "stdout",
     "output_type": "stream",
     "text": [
      "[1, 4, 9, 16, 25]\n",
      "[1, 4, 9, 16, 25]\n"
     ]
    }
   ],
   "source": [
    "squared = []\n",
    "for num in range(1, 6):\n",
    "    squared.append(num ** 2)\n",
    "\n",
    "print(squared)\n",
    "#We could simplify to:\n",
    "squared = [num ** 2 for num in range(1, 6)]\n",
    "print(squared)\n",
    "#We can also add conditions to the end of our expression. The pseudocode would be:\n",
    "#my_list = [calculation for variable in iterable if condition]\n"
   ]
  },
  {
   "cell_type": "code",
   "execution_count": 6,
   "metadata": {},
   "outputs": [
    {
     "name": "stdout",
     "output_type": "stream",
     "text": [
      "[1, 4, 9, 16, 25, 36, 49, 64]\n"
     ]
    }
   ],
   "source": [
    "mul=[]\n",
    "for num in range(1,9):\n",
    "    mul.append(num*num)\n",
    "print(mul)"
   ]
  },
  {
   "cell_type": "code",
   "execution_count": 10,
   "metadata": {},
   "outputs": [
    {
     "name": "stdout",
     "output_type": "stream",
     "text": [
      "[36, 49, 64]\n"
     ]
    }
   ],
   "source": [
    "mul=[num*num for num in range(1,9) if num>5]\n",
    "print(mul)"
   ]
  },
  {
   "cell_type": "code",
   "execution_count": 11,
   "metadata": {},
   "outputs": [],
   "source": [
    "l=[num+3 for num in range(1,9)]"
   ]
  },
  {
   "cell_type": "code",
   "execution_count": 12,
   "metadata": {},
   "outputs": [
    {
     "name": "stdout",
     "output_type": "stream",
     "text": [
      "[4, 5, 6, 7, 8, 9, 10, 11]\n"
     ]
    }
   ],
   "source": [
    "print(l)"
   ]
  },
  {
   "cell_type": "code",
   "execution_count": 15,
   "metadata": {},
   "outputs": [
    {
     "name": "stdout",
     "output_type": "stream",
     "text": [
      "[36.6, 58.3, 31.4, 80.9, 25.7]\n"
     ]
    }
   ],
   "source": [
    "nums = [33.6, -210.1, 55.3, 28.4, -10.2, 77.9, 22.7]\n",
    "new_l=[num+3 for num in nums if num>0 ]\n",
    "print(new_l)"
   ]
  },
  {
   "cell_type": "code",
   "execution_count": 29,
   "metadata": {},
   "outputs": [
    {
     "name": "stdout",
     "output_type": "stream",
     "text": [
      "[7, 14, 21, 28, 35, 42, 49, 56, 63, 70, 77, 84, 91, 98]\n"
     ]
    }
   ],
   "source": [
    "new_list=[num+0 for num in range(1,100) if num%7==0]\n",
    "print(new_list)"
   ]
  },
  {
   "cell_type": "code",
   "execution_count": 33,
   "metadata": {},
   "outputs": [
    {
     "name": "stdout",
     "output_type": "stream",
     "text": [
      "['AN APPLE A DAY KEEPS THE DOCTOR AWAY']\n"
     ]
    }
   ],
   "source": [
    "st=['An Apple a Day Keeps The Doctor Away' ]\n",
    "new_st=[d.upper() for d in st ]\n",
    "print(new_st)"
   ]
  },
  {
   "cell_type": "code",
   "execution_count": 70,
   "metadata": {},
   "outputs": [
    {
     "name": "stdin",
     "output_type": "stream",
     "text": [
      "Enter Word muttesir\n"
     ]
    },
    {
     "name": "stdout",
     "output_type": "stream",
     "text": [
      "risettum\n"
     ]
    }
   ],
   "source": [
    "word=input('Enter Word')\n",
    "new_word=[new for new in word[::-1]]\n",
    "\n",
    "new_word = ''.join(list(reversed(word)))\n",
    "print(new_word)"
   ]
  },
  {
   "cell_type": "code",
   "execution_count": 98,
   "metadata": {},
   "outputs": [
    {
     "name": "stdout",
     "output_type": "stream",
     "text": [
      "['civic', 'rotom', 'level', 'madam', 'olleh', 'racecar', 'nohtyp', 'rotor']\n"
     ]
    }
   ],
   "source": [
    "word=[\"civic\", \"motor\", \"level\", \"madam\", \"hello\", \"racecar\", \"python\", \"rotor\"]\n",
    "new_word=[new[::-1] for new in word]\n",
    "print(new_word)"
   ]
  },
  {
   "cell_type": "code",
   "execution_count": 139,
   "metadata": {},
   "outputs": [
    {
     "name": "stdout",
     "output_type": "stream",
     "text": [
      "number of spaces  7\n"
     ]
    }
   ],
   "source": [
    "\n",
    "\n",
    "def check_space(string):\n",
    "     \n",
    "    count = 0       \n",
    "    for i in string:                 \n",
    "        if i == \" \":\n",
    "            count += 1\n",
    "         \n",
    "    return count\n",
    "string='Given a string, count the number of spaces'\n",
    "print(\"number of spaces \",check_space(string))"
   ]
  },
  {
   "cell_type": "code",
   "execution_count": 140,
   "metadata": {},
   "outputs": [
    {
     "name": "stdout",
     "output_type": "stream",
     "text": [
      "Gvn  strng, cnt th nmbr f spcs\n"
     ]
    }
   ],
   "source": [
    "string='Given a string, count the number of spaces'\n",
    "vowels = ('a', 'e', 'i', 'o', 'u')\n",
    "new=[x for x in string if x not in vowels]\n",
    "print(''.join(new))"
   ]
  },
  {
   "cell_type": "code",
   "execution_count": null,
   "metadata": {},
   "outputs": [],
   "source": []
  }
 ],
 "metadata": {
  "kernelspec": {
   "display_name": "Python 3",
   "language": "python",
   "name": "python3"
  },
  "language_info": {
   "codemirror_mode": {
    "name": "ipython",
    "version": 3
   },
   "file_extension": ".py",
   "mimetype": "text/x-python",
   "name": "python",
   "nbconvert_exporter": "python",
   "pygments_lexer": "ipython3",
   "version": "3.7.6"
  }
 },
 "nbformat": 4,
 "nbformat_minor": 4
}
