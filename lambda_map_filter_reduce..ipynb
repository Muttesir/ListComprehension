{
 "cells": [
  {
   "cell_type": "code",
   "execution_count": 2,
   "metadata": {},
   "outputs": [
    {
     "name": "stdout",
     "output_type": "stream",
     "text": [
      "filtered (with a lambda) is  [1, 5, 99, 4, 17, 10]\n",
      "filtered (with a function) is  [1, 5, 99, 4, 17, 10]\n",
      "filtered (with a lambda) is  [-3, -22, -44, -46]\n",
      "filtered (with a function) is  [-3, -22, -44, -46]\n",
      "mapped (with a lambda) is  [False, True, False, True, False, True, True, True, True, False, False]\n",
      "mapped (with a function) is  [False, True, False, True, False, True, True, True, True, False, False]\n",
      "reduced (with a lambda) is  21\n",
      "reduced (with a function) is  21\n"
     ]
    }
   ],
   "source": [
    "\n",
    "\n",
    "from functools import reduce\n",
    "\n",
    "def is_greater_than_zero(x):\n",
    "    return x > 0\n",
    "def is_less_than_zero(x):\n",
    "    return x<0\n",
    "\n",
    "def add_two_numbers(x,y):\n",
    "    return x + y\n",
    "\n",
    "\n",
    "my_list = [0, 1, -3, 5, -22, 99, 4, 17, 10, -44, -46]\n",
    "# Filter the list according to the expression\n",
    "filtered = list(filter(lambda x: x>0, my_list))\n",
    "print(\"filtered (with a lambda) is \",filtered)\n",
    "\n",
    "# Filter the list according to the expression\n",
    "filtered = list(filter(is_greater_than_zero, my_list))\n",
    "print(\"filtered (with a function) is \",filtered)\n",
    "\n",
    "\n",
    "# Filter the list according to the expression\n",
    "filtered = list(filter(lambda x: x<0, my_list))\n",
    "print(\"filtered (with a lambda) is \",filtered)\n",
    "\n",
    "# Filter the list according to the expression\n",
    "filtered = list(filter(is_less_than_zero, my_list))\n",
    "print(\"filtered (with a function) is \",filtered)\n",
    "\n",
    "\n",
    "\n",
    "# Apply the expression to each item in the list\n",
    "mapped = list(map(lambda x: x>0, my_list))\n",
    "print(\"mapped (with a lambda) is \",mapped)\n",
    "\n",
    "# Apply the expression to each item in the list\n",
    "mapped = list(map(is_greater_than_zero, my_list))\n",
    "print(\"mapped (with a function) is \",mapped)\n",
    "\n",
    "\n",
    "\n",
    "# Apply the expression to successive pairs of items in the list\n",
    "reduced = reduce(lambda x,y: x+y, my_list)\n",
    "print(\"reduced (with a lambda) is \",reduced)\n",
    "\n",
    "# Apply the expression to successive pairs of items in the list\n",
    "reduced = reduce(add_two_numbers, my_list)\n",
    "print(\"reduced (with a function) is \",reduced)"
   ]
  },
  {
   "cell_type": "code",
   "execution_count": null,
   "metadata": {},
   "outputs": [],
   "source": []
  }
 ],
 "metadata": {
  "kernelspec": {
   "display_name": "Python 3",
   "language": "python",
   "name": "python3"
  },
  "language_info": {
   "codemirror_mode": {
    "name": "ipython",
    "version": 3
   },
   "file_extension": ".py",
   "mimetype": "text/x-python",
   "name": "python",
   "nbconvert_exporter": "python",
   "pygments_lexer": "ipython3",
   "version": "3.7.6"
  }
 },
 "nbformat": 4,
 "nbformat_minor": 4
}
