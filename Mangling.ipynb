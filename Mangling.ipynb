{
 "cells": [
  {
   "cell_type": "code",
   "execution_count": 2,
   "metadata": {
    "collapsed": true,
    "jupyter": {
     "outputs_hidden": true
    }
   },
   "outputs": [
    {
     "name": "stdout",
     "output_type": "stream",
     "text": [
      "['password', 'p@ssword', 'PASSWORD', 'P@SSWORD', 'password0', 'password1', 'password2', 'password3', 'password4', 'password5', 'password6', 'password7', 'password8', 'password9', 'p@ssword0', 'p@ssword1', 'p@ssword2', 'p@ssword3', 'p@ssword4', 'p@ssword5', 'p@ssword6', 'p@ssword7', 'p@ssword8', 'p@ssword9', 'PASSWORD0', 'PASSWORD1', 'PASSWORD2', 'PASSWORD3', 'PASSWORD4', 'PASSWORD5', 'PASSWORD6', 'PASSWORD7', 'PASSWORD8', 'PASSWORD9', 'P@SSWORD0', 'P@SSWORD1', 'P@SSWORD2', 'P@SSWORD3', 'P@SSWORD4', 'P@SSWORD5', 'P@SSWORD6', 'P@SSWORD7', 'P@SSWORD8', 'P@SSWORD9', 'password1', 'password2', 'password3', 'password4', 'password5', 'p@ssword1', 'p@ssword2', 'p@ssword3', 'p@ssword4', 'p@ssword5', 'PASSWORD1', 'PASSWORD2', 'PASSWORD3', 'PASSWORD4', 'PASSWORD5', 'P@SSWORD1', 'P@SSWORD2', 'P@SSWORD3', 'P@SSWORD4', 'P@SSWORD5', 'password01', 'password02', 'password03', 'password04', 'password05', 'password11', 'password12', 'password13', 'password14', 'password15', 'password21', 'password22', 'password23', 'password24', 'password25', 'password31', 'password32', 'password33', 'password34', 'password35', 'password41', 'password42', 'password43', 'password44', 'password45', 'password51', 'password52', 'password53', 'password54', 'password55', 'password61', 'password62', 'password63', 'password64', 'password65', 'password71', 'password72', 'password73', 'password74', 'password75', 'password81', 'password82', 'password83', 'password84', 'password85', 'password91', 'password92', 'password93', 'password94', 'password95', 'p@ssword01', 'p@ssword02', 'p@ssword03', 'p@ssword04', 'p@ssword05', 'p@ssword11', 'p@ssword12', 'p@ssword13', 'p@ssword14', 'p@ssword15', 'p@ssword21', 'p@ssword22', 'p@ssword23', 'p@ssword24', 'p@ssword25', 'p@ssword31', 'p@ssword32', 'p@ssword33', 'p@ssword34', 'p@ssword35', 'p@ssword41', 'p@ssword42', 'p@ssword43', 'p@ssword44', 'p@ssword45', 'p@ssword51', 'p@ssword52', 'p@ssword53', 'p@ssword54', 'p@ssword55', 'p@ssword61', 'p@ssword62', 'p@ssword63', 'p@ssword64', 'p@ssword65', 'p@ssword71', 'p@ssword72', 'p@ssword73', 'p@ssword74', 'p@ssword75', 'p@ssword81', 'p@ssword82', 'p@ssword83', 'p@ssword84', 'p@ssword85', 'p@ssword91', 'p@ssword92', 'p@ssword93', 'p@ssword94', 'p@ssword95', 'PASSWORD01', 'PASSWORD02', 'PASSWORD03', 'PASSWORD04', 'PASSWORD05', 'PASSWORD11', 'PASSWORD12', 'PASSWORD13', 'PASSWORD14', 'PASSWORD15', 'PASSWORD21', 'PASSWORD22', 'PASSWORD23', 'PASSWORD24', 'PASSWORD25', 'PASSWORD31', 'PASSWORD32', 'PASSWORD33', 'PASSWORD34', 'PASSWORD35', 'PASSWORD41', 'PASSWORD42', 'PASSWORD43', 'PASSWORD44', 'PASSWORD45', 'PASSWORD51', 'PASSWORD52', 'PASSWORD53', 'PASSWORD54', 'PASSWORD55', 'PASSWORD61', 'PASSWORD62', 'PASSWORD63', 'PASSWORD64', 'PASSWORD65', 'PASSWORD71', 'PASSWORD72', 'PASSWORD73', 'PASSWORD74', 'PASSWORD75', 'PASSWORD81', 'PASSWORD82', 'PASSWORD83', 'PASSWORD84', 'PASSWORD85', 'PASSWORD91', 'PASSWORD92', 'PASSWORD93', 'PASSWORD94', 'PASSWORD95', 'P@SSWORD01', 'P@SSWORD02', 'P@SSWORD03', 'P@SSWORD04', 'P@SSWORD05', 'P@SSWORD11', 'P@SSWORD12', 'P@SSWORD13', 'P@SSWORD14', 'P@SSWORD15', 'P@SSWORD21', 'P@SSWORD22', 'P@SSWORD23', 'P@SSWORD24', 'P@SSWORD25', 'P@SSWORD31', 'P@SSWORD32', 'P@SSWORD33', 'P@SSWORD34', 'P@SSWORD35', 'P@SSWORD41', 'P@SSWORD42', 'P@SSWORD43', 'P@SSWORD44', 'P@SSWORD45', 'P@SSWORD51', 'P@SSWORD52', 'P@SSWORD53', 'P@SSWORD54', 'P@SSWORD55', 'P@SSWORD61', 'P@SSWORD62', 'P@SSWORD63', 'P@SSWORD64', 'P@SSWORD65', 'P@SSWORD71', 'P@SSWORD72', 'P@SSWORD73', 'P@SSWORD74', 'P@SSWORD75', 'P@SSWORD81', 'P@SSWORD82', 'P@SSWORD83', 'P@SSWORD84', 'P@SSWORD85', 'P@SSWORD91', 'P@SSWORD92', 'P@SSWORD93', 'P@SSWORD94', 'P@SSWORD95', 'p$ssword', 'p$ssword', 'P$SSWORD', 'P$SSWORD', 'p$ssword0', 'p$ssword1', 'p$ssword2', 'p$ssword3', 'p$ssword4', 'p$ssword5', 'p$ssword6', 'p$ssword7', 'p$ssword8', 'p$ssword9', 'p$ssword0', 'p$ssword1', 'p$ssword2', 'p$ssword3', 'p$ssword4', 'p$ssword5', 'p$ssword6', 'p$ssword7', 'p$ssword8', 'p$ssword9', 'P$SSWORD0', 'P$SSWORD1', 'P$SSWORD2', 'P$SSWORD3', 'P$SSWORD4', 'P$SSWORD5', 'P$SSWORD6', 'P$SSWORD7', 'P$SSWORD8', 'P$SSWORD9', 'P$SSWORD0', 'P$SSWORD1', 'P$SSWORD2', 'P$SSWORD3', 'P$SSWORD4', 'P$SSWORD5', 'P$SSWORD6', 'P$SSWORD7', 'P$SSWORD8', 'P$SSWORD9', 'p$ssword1', 'p$ssword2', 'p$ssword3', 'p$ssword4', 'p$ssword5', 'p$ssword1', 'p$ssword2', 'p$ssword3', 'p$ssword4', 'p$ssword5', 'P$SSWORD1', 'P$SSWORD2', 'P$SSWORD3', 'P$SSWORD4', 'P$SSWORD5', 'P$SSWORD1', 'P$SSWORD2', 'P$SSWORD3', 'P$SSWORD4', 'P$SSWORD5', 'p$ssword01', 'p$ssword02', 'p$ssword03', 'p$ssword04', 'p$ssword05', 'p$ssword11', 'p$ssword12', 'p$ssword13', 'p$ssword14', 'p$ssword15', 'p$ssword21', 'p$ssword22', 'p$ssword23', 'p$ssword24', 'p$ssword25', 'p$ssword31', 'p$ssword32', 'p$ssword33', 'p$ssword34', 'p$ssword35', 'p$ssword41', 'p$ssword42', 'p$ssword43', 'p$ssword44', 'p$ssword45', 'p$ssword51', 'p$ssword52', 'p$ssword53', 'p$ssword54', 'p$ssword55', 'p$ssword61', 'p$ssword62', 'p$ssword63', 'p$ssword64', 'p$ssword65', 'p$ssword71', 'p$ssword72', 'p$ssword73', 'p$ssword74', 'p$ssword75', 'p$ssword81', 'p$ssword82', 'p$ssword83', 'p$ssword84', 'p$ssword85', 'p$ssword91', 'p$ssword92', 'p$ssword93', 'p$ssword94', 'p$ssword95', 'p$ssword01', 'p$ssword02', 'p$ssword03', 'p$ssword04', 'p$ssword05', 'p$ssword11', 'p$ssword12', 'p$ssword13', 'p$ssword14', 'p$ssword15', 'p$ssword21', 'p$ssword22', 'p$ssword23', 'p$ssword24', 'p$ssword25', 'p$ssword31', 'p$ssword32', 'p$ssword33', 'p$ssword34', 'p$ssword35', 'p$ssword41', 'p$ssword42', 'p$ssword43', 'p$ssword44', 'p$ssword45', 'p$ssword51', 'p$ssword52', 'p$ssword53', 'p$ssword54', 'p$ssword55', 'p$ssword61', 'p$ssword62', 'p$ssword63', 'p$ssword64', 'p$ssword65', 'p$ssword71', 'p$ssword72', 'p$ssword73', 'p$ssword74', 'p$ssword75', 'p$ssword81', 'p$ssword82', 'p$ssword83', 'p$ssword84', 'p$ssword85', 'p$ssword91', 'p$ssword92', 'p$ssword93', 'p$ssword94', 'p$ssword95', 'P$SSWORD01', 'P$SSWORD02', 'P$SSWORD03', 'P$SSWORD04', 'P$SSWORD05', 'P$SSWORD11', 'P$SSWORD12', 'P$SSWORD13', 'P$SSWORD14', 'P$SSWORD15', 'P$SSWORD21', 'P$SSWORD22', 'P$SSWORD23', 'P$SSWORD24', 'P$SSWORD25', 'P$SSWORD31', 'P$SSWORD32', 'P$SSWORD33', 'P$SSWORD34', 'P$SSWORD35', 'P$SSWORD41', 'P$SSWORD42', 'P$SSWORD43', 'P$SSWORD44', 'P$SSWORD45', 'P$SSWORD51', 'P$SSWORD52', 'P$SSWORD53', 'P$SSWORD54', 'P$SSWORD55', 'P$SSWORD61', 'P$SSWORD62', 'P$SSWORD63', 'P$SSWORD64', 'P$SSWORD65', 'P$SSWORD71', 'P$SSWORD72', 'P$SSWORD73', 'P$SSWORD74', 'P$SSWORD75', 'P$SSWORD81', 'P$SSWORD82', 'P$SSWORD83', 'P$SSWORD84', 'P$SSWORD85', 'P$SSWORD91', 'P$SSWORD92', 'P$SSWORD93', 'P$SSWORD94', 'P$SSWORD95', 'P$SSWORD01', 'P$SSWORD02', 'P$SSWORD03', 'P$SSWORD04', 'P$SSWORD05', 'P$SSWORD11', 'P$SSWORD12', 'P$SSWORD13', 'P$SSWORD14', 'P$SSWORD15', 'P$SSWORD21', 'P$SSWORD22', 'P$SSWORD23', 'P$SSWORD24', 'P$SSWORD25', 'P$SSWORD31', 'P$SSWORD32', 'P$SSWORD33', 'P$SSWORD34', 'P$SSWORD35', 'P$SSWORD41', 'P$SSWORD42', 'P$SSWORD43', 'P$SSWORD44', 'P$SSWORD45', 'P$SSWORD51', 'P$SSWORD52', 'P$SSWORD53', 'P$SSWORD54', 'P$SSWORD55', 'P$SSWORD61', 'P$SSWORD62', 'P$SSWORD63', 'P$SSWORD64', 'P$SSWORD65', 'P$SSWORD71', 'P$SSWORD72', 'P$SSWORD73', 'P$SSWORD74', 'P$SSWORD75', 'P$SSWORD81', 'P$SSWORD82', 'P$SSWORD83', 'P$SSWORD84', 'P$SSWORD85', 'P$SSWORD91', 'P$SSWORD92', 'P$SSWORD93', 'P$SSWORD94', 'P$SSWORD95', 'Password', 'P@ssword', 'Password', 'P@ssword', 'Password0', 'Password1', 'Password2', 'Password3', 'Password4', 'Password5', 'Password6', 'Password7', 'Password8', 'Password9', 'P@ssword0', 'P@ssword1', 'P@ssword2', 'P@ssword3', 'P@ssword4', 'P@ssword5', 'P@ssword6', 'P@ssword7', 'P@ssword8', 'P@ssword9', 'Password0', 'Password1', 'Password2', 'Password3', 'Password4', 'Password5', 'Password6', 'Password7', 'Password8', 'Password9', 'P@ssword0', 'P@ssword1', 'P@ssword2', 'P@ssword3', 'P@ssword4', 'P@ssword5', 'P@ssword6', 'P@ssword7', 'P@ssword8', 'P@ssword9', 'Password1', 'Password2', 'Password3', 'Password4', 'Password5', 'P@ssword1', 'P@ssword2', 'P@ssword3', 'P@ssword4', 'P@ssword5', 'Password1', 'Password2', 'Password3', 'Password4', 'Password5', 'P@ssword1', 'P@ssword2', 'P@ssword3', 'P@ssword4', 'P@ssword5', 'Password01', 'Password02', 'Password03', 'Password04', 'Password05', 'Password11', 'Password12', 'Password13', 'Password14', 'Password15', 'Password21', 'Password22', 'Password23', 'Password24', 'Password25', 'Password31', 'Password32', 'Password33', 'Password34', 'Password35', 'Password41', 'Password42', 'Password43', 'Password44', 'Password45', 'Password51', 'Password52', 'Password53', 'Password54', 'Password55', 'Password61', 'Password62', 'Password63', 'Password64', 'Password65', 'Password71', 'Password72', 'Password73', 'Password74', 'Password75', 'Password81', 'Password82', 'Password83', 'Password84', 'Password85', 'Password91', 'Password92', 'Password93', 'Password94', 'Password95', 'P@ssword01', 'P@ssword02', 'P@ssword03', 'P@ssword04', 'P@ssword05', 'P@ssword11', 'P@ssword12', 'P@ssword13', 'P@ssword14', 'P@ssword15', 'P@ssword21', 'P@ssword22', 'P@ssword23', 'P@ssword24', 'P@ssword25', 'P@ssword31', 'P@ssword32', 'P@ssword33', 'P@ssword34', 'P@ssword35', 'P@ssword41', 'P@ssword42', 'P@ssword43', 'P@ssword44', 'P@ssword45', 'P@ssword51', 'P@ssword52', 'P@ssword53', 'P@ssword54', 'P@ssword55', 'P@ssword61', 'P@ssword62', 'P@ssword63', 'P@ssword64', 'P@ssword65', 'P@ssword71', 'P@ssword72', 'P@ssword73', 'P@ssword74', 'P@ssword75', 'P@ssword81', 'P@ssword82', 'P@ssword83', 'P@ssword84', 'P@ssword85', 'P@ssword91', 'P@ssword92', 'P@ssword93', 'P@ssword94', 'P@ssword95', 'Password01', 'Password02', 'Password03', 'Password04', 'Password05', 'Password11', 'Password12', 'Password13', 'Password14', 'Password15', 'Password21', 'Password22', 'Password23', 'Password24', 'Password25', 'Password31', 'Password32', 'Password33', 'Password34', 'Password35', 'Password41', 'Password42', 'Password43', 'Password44', 'Password45', 'Password51', 'Password52', 'Password53', 'Password54', 'Password55', 'Password61', 'Password62', 'Password63', 'Password64', 'Password65', 'Password71', 'Password72', 'Password73', 'Password74', 'Password75', 'Password81', 'Password82', 'Password83', 'Password84', 'Password85', 'Password91', 'Password92', 'Password93', 'Password94', 'Password95', 'P@ssword01', 'P@ssword02', 'P@ssword03', 'P@ssword04', 'P@ssword05', 'P@ssword11', 'P@ssword12', 'P@ssword13', 'P@ssword14', 'P@ssword15', 'P@ssword21', 'P@ssword22', 'P@ssword23', 'P@ssword24', 'P@ssword25', 'P@ssword31', 'P@ssword32', 'P@ssword33', 'P@ssword34', 'P@ssword35', 'P@ssword41', 'P@ssword42', 'P@ssword43', 'P@ssword44', 'P@ssword45', 'P@ssword51', 'P@ssword52', 'P@ssword53', 'P@ssword54', 'P@ssword55', 'P@ssword61', 'P@ssword62', 'P@ssword63', 'P@ssword64', 'P@ssword65', 'P@ssword71', 'P@ssword72', 'P@ssword73', 'P@ssword74', 'P@ssword75', 'P@ssword81', 'P@ssword82', 'P@ssword83', 'P@ssword84', 'P@ssword85', 'P@ssword91', 'P@ssword92', 'P@ssword93', 'P@ssword94', 'P@ssword95', 'P$ssword', 'P$ssword', 'P$ssword', 'P$ssword', 'P$ssword0', 'P$ssword1', 'P$ssword2', 'P$ssword3', 'P$ssword4', 'P$ssword5', 'P$ssword6', 'P$ssword7', 'P$ssword8', 'P$ssword9', 'P$ssword0', 'P$ssword1', 'P$ssword2', 'P$ssword3', 'P$ssword4', 'P$ssword5', 'P$ssword6', 'P$ssword7', 'P$ssword8', 'P$ssword9', 'P$ssword0', 'P$ssword1', 'P$ssword2', 'P$ssword3', 'P$ssword4', 'P$ssword5', 'P$ssword6', 'P$ssword7', 'P$ssword8', 'P$ssword9', 'P$ssword0', 'P$ssword1', 'P$ssword2', 'P$ssword3', 'P$ssword4', 'P$ssword5', 'P$ssword6', 'P$ssword7', 'P$ssword8', 'P$ssword9', 'P$ssword1', 'P$ssword2', 'P$ssword3', 'P$ssword4', 'P$ssword5', 'P$ssword1', 'P$ssword2', 'P$ssword3', 'P$ssword4', 'P$ssword5', 'P$ssword1', 'P$ssword2', 'P$ssword3', 'P$ssword4', 'P$ssword5', 'P$ssword1', 'P$ssword2', 'P$ssword3', 'P$ssword4', 'P$ssword5', 'P$ssword01', 'P$ssword02', 'P$ssword03', 'P$ssword04', 'P$ssword05', 'P$ssword11', 'P$ssword12', 'P$ssword13', 'P$ssword14', 'P$ssword15', 'P$ssword21', 'P$ssword22', 'P$ssword23', 'P$ssword24', 'P$ssword25', 'P$ssword31', 'P$ssword32', 'P$ssword33', 'P$ssword34', 'P$ssword35', 'P$ssword41', 'P$ssword42', 'P$ssword43', 'P$ssword44', 'P$ssword45', 'P$ssword51', 'P$ssword52', 'P$ssword53', 'P$ssword54', 'P$ssword55', 'P$ssword61', 'P$ssword62', 'P$ssword63', 'P$ssword64', 'P$ssword65', 'P$ssword71', 'P$ssword72', 'P$ssword73', 'P$ssword74', 'P$ssword75', 'P$ssword81', 'P$ssword82', 'P$ssword83', 'P$ssword84', 'P$ssword85', 'P$ssword91', 'P$ssword92', 'P$ssword93', 'P$ssword94', 'P$ssword95', 'P$ssword01', 'P$ssword02', 'P$ssword03', 'P$ssword04', 'P$ssword05', 'P$ssword11', 'P$ssword12', 'P$ssword13', 'P$ssword14', 'P$ssword15', 'P$ssword21', 'P$ssword22', 'P$ssword23', 'P$ssword24', 'P$ssword25', 'P$ssword31', 'P$ssword32', 'P$ssword33', 'P$ssword34', 'P$ssword35', 'P$ssword41', 'P$ssword42', 'P$ssword43', 'P$ssword44', 'P$ssword45', 'P$ssword51', 'P$ssword52', 'P$ssword53', 'P$ssword54', 'P$ssword55', 'P$ssword61', 'P$ssword62', 'P$ssword63', 'P$ssword64', 'P$ssword65', 'P$ssword71', 'P$ssword72', 'P$ssword73', 'P$ssword74', 'P$ssword75', 'P$ssword81', 'P$ssword82', 'P$ssword83', 'P$ssword84', 'P$ssword85', 'P$ssword91', 'P$ssword92', 'P$ssword93', 'P$ssword94', 'P$ssword95', 'P$ssword01', 'P$ssword02', 'P$ssword03', 'P$ssword04', 'P$ssword05', 'P$ssword11', 'P$ssword12', 'P$ssword13', 'P$ssword14', 'P$ssword15', 'P$ssword21', 'P$ssword22', 'P$ssword23', 'P$ssword24', 'P$ssword25', 'P$ssword31', 'P$ssword32', 'P$ssword33', 'P$ssword34', 'P$ssword35', 'P$ssword41', 'P$ssword42', 'P$ssword43', 'P$ssword44', 'P$ssword45', 'P$ssword51', 'P$ssword52', 'P$ssword53', 'P$ssword54', 'P$ssword55', 'P$ssword61', 'P$ssword62', 'P$ssword63', 'P$ssword64', 'P$ssword65', 'P$ssword71', 'P$ssword72', 'P$ssword73', 'P$ssword74', 'P$ssword75', 'P$ssword81', 'P$ssword82', 'P$ssword83', 'P$ssword84', 'P$ssword85', 'P$ssword91', 'P$ssword92', 'P$ssword93', 'P$ssword94', 'P$ssword95', 'P$ssword01', 'P$ssword02', 'P$ssword03', 'P$ssword04', 'P$ssword05', 'P$ssword11', 'P$ssword12', 'P$ssword13', 'P$ssword14', 'P$ssword15', 'P$ssword21', 'P$ssword22', 'P$ssword23', 'P$ssword24', 'P$ssword25', 'P$ssword31', 'P$ssword32', 'P$ssword33', 'P$ssword34', 'P$ssword35', 'P$ssword41', 'P$ssword42', 'P$ssword43', 'P$ssword44', 'P$ssword45', 'P$ssword51', 'P$ssword52', 'P$ssword53', 'P$ssword54', 'P$ssword55', 'P$ssword61', 'P$ssword62', 'P$ssword63', 'P$ssword64', 'P$ssword65', 'P$ssword71', 'P$ssword72', 'P$ssword73', 'P$ssword74', 'P$ssword75', 'P$ssword81', 'P$ssword82', 'P$ssword83', 'P$ssword84', 'P$ssword85', 'P$ssword91', 'P$ssword92', 'P$ssword93', 'P$ssword94', 'P$ssword95']\n",
      "1056\n"
     ]
    }
   ],
   "source": [
    "\n",
    "\n",
    "# Small example of applying mangling rules to \"password\"\n",
    "def capitalise(base): \n",
    "    return [base.capitalize()]\n",
    "\n",
    "def up(base):\n",
    "    return [base.upper()]\n",
    "\n",
    "def replace_a(base):\n",
    "    return [base.replace('a', '@')]\n",
    "\n",
    "def replace_1(base):\n",
    "    return [base.replace(base[1], '$')]\n",
    "\n",
    "\n",
    "def append_num(base, start=0, end=10):\n",
    "    return [base + str(num) for num in range(start,end)]\n",
    "\n",
    "def append_random(base):\n",
    "    return [base+ str(num) for num in range(1,6)]\n",
    "\n",
    "base = \"password\"\n",
    "\n",
    "#test_rules = [append_num, up, replace_a]\n",
    "test_rules = [replace_a, up, append_num,append_random,replace_1,capitalise]\n",
    "permutations = [base]\n",
    "\n",
    "for rule in test_rules:\n",
    "    new_permutations = []\n",
    "    for perm in permutations:\n",
    "        # appending all the items from the iterable. Equivalent to a[len(a):] = iterable.\n",
    "        new_permutations.extend(rule(perm))\n",
    "    permutations.extend(new_permutations)\n",
    "\n",
    "print(permutations)\n",
    "print(len(permutations))"
   ]
  },
  {
   "cell_type": "code",
   "execution_count": null,
   "metadata": {},
   "outputs": [],
   "source": []
  }
 ],
 "metadata": {
  "kernelspec": {
   "display_name": "Python 3",
   "language": "python",
   "name": "python3"
  },
  "language_info": {
   "codemirror_mode": {
    "name": "ipython",
    "version": 3
   },
   "file_extension": ".py",
   "mimetype": "text/x-python",
   "name": "python",
   "nbconvert_exporter": "python",
   "pygments_lexer": "ipython3",
   "version": "3.7.6"
  }
 },
 "nbformat": 4,
 "nbformat_minor": 4
}
